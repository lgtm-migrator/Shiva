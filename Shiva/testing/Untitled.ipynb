{
 "cells": [
  {
   "cell_type": "code",
   "execution_count": 3,
   "metadata": {},
   "outputs": [],
   "source": [
    "import random\n",
    "import numpy as np\n",
    "import torch\n",
    "import torch.nn as nn\n",
    "import torch.optim as optim\n",
    "\n",
    "import os, sys\n",
    "sys.path.append(os.path.dirname(os.path.dirname(os.path.abspath('Learner.py'))))\n",
    "sys.path.append(os.path.dirname(os.path.dirname(os.path.abspath('Algorithm.py'))))\n",
    "sys.path.append(os.path.dirname(os.path.dirname(os.path.abspath('Environment.py'))))\n",
    "sys.path.append(os.path.dirname(os.path.dirname(os.path.abspath('ReplayBuffer.py'))))\n",
    "import Learner\n",
    "import Algorithm as ALGS\n",
    "import Environment as ENVS\n",
    "import ReplayBuffer\n"
   ]
  },
  {
   "cell_type": "code",
   "execution_count": 7,
   "metadata": {},
   "outputs": [],
   "source": [
    "config = [{'MetaLearner': {'type': 'Single', 'algorithms': 'DQN', 'eval_env': 'Gym', 'optimize_env_hp': 'False', 'optimize_learner_hp': 'False', 'evolution': 'False'}, 'Learner': {'type': 'DQN', 'episodes': 300, 'save_frequency': 5000}, 'Algorithm': {'algorithm': 'DQN', 'replay_buffer': True, 'learning_rate': 0.003, 'optimizer': 'Adam', 'loss_function': 'MSELoss', 'regularizer': 0, 'recurrence': 0, 'gamma': 0.99, 'beta': 0, 'epsilon_start': 1, 'epsilon_end': 0.02, 'epsilon_decay': 5e-05, 'c': 200}, 'Environment': {'env_type': 'Gym', 'environment': 'CartPole-v0', 'action_space': 'discrete', 'observation_space': 'discrete', 'env_render': True, 'num_agents': 1}, 'ReplayBuffer': {'max_size': 100000, 'batch_size': 64, 'num_agents': 1}, 'Agent': {'num_agents': 1}, 'Network': {'layers': '30,60', 'activation_function': 'ReLU,ReLU', 'output_function': ''}, 'ImageProcessing': {}}]"
   ]
  },
  {
   "cell_type": "code",
   "execution_count": 8,
   "metadata": {},
   "outputs": [
    {
     "data": {
      "text/plain": [
       "[{'MetaLearner': {'type': 'Single',\n",
       "   'algorithms': 'DQN',\n",
       "   'eval_env': 'Gym',\n",
       "   'optimize_env_hp': 'False',\n",
       "   'optimize_learner_hp': 'False',\n",
       "   'evolution': 'False'},\n",
       "  'Learner': {'type': 'DQN', 'episodes': 300, 'save_frequency': 5000},\n",
       "  'Algorithm': {'algorithm': 'DQN',\n",
       "   'replay_buffer': True,\n",
       "   'learning_rate': 0.003,\n",
       "   'optimizer': 'Adam',\n",
       "   'loss_function': 'MSELoss',\n",
       "   'regularizer': 0,\n",
       "   'recurrence': 0,\n",
       "   'gamma': 0.99,\n",
       "   'beta': 0,\n",
       "   'epsilon_start': 1,\n",
       "   'epsilon_end': 0.02,\n",
       "   'epsilon_decay': 5e-05,\n",
       "   'c': 200},\n",
       "  'Environment': {'env_type': 'Gym',\n",
       "   'environment': 'CartPole-v0',\n",
       "   'action_space': 'discrete',\n",
       "   'observation_space': 'discrete',\n",
       "   'env_render': True,\n",
       "   'num_agents': 1},\n",
       "  'ReplayBuffer': {'max_size': 100000, 'batch_size': 64, 'num_agents': 1},\n",
       "  'Agent': {'num_agents': 1},\n",
       "  'Network': {'layers': '30,60',\n",
       "   'activation_function': 'ReLU,ReLU',\n",
       "   'output_function': ''},\n",
       "  'ImageProcessing': {}}]"
      ]
     },
     "execution_count": 8,
     "metadata": {},
     "output_type": "execute_result"
    }
   ],
   "source": [
    "config"
   ]
  },
  {
   "cell_type": "code",
   "execution_count": 10,
   "metadata": {},
   "outputs": [],
   "source": [
    "l = Learner.Single_Agent_Learner([], [], [], [], config, 0, '.')"
   ]
  },
  {
   "cell_type": "code",
   "execution_count": 11,
   "metadata": {},
   "outputs": [
    {
     "data": {
      "text/plain": [
       "<Learner.Single_Agent_Learner at 0x7f4ea15fdf90>"
      ]
     },
     "execution_count": 11,
     "metadata": {},
     "output_type": "execute_result"
    }
   ],
   "source": [
    "l."
   ]
  },
  {
   "cell_type": "code",
   "execution_count": null,
   "metadata": {},
   "outputs": [],
   "source": []
  }
 ],
 "metadata": {
  "kernelspec": {
   "display_name": "Python 3",
   "language": "python",
   "name": "python3"
  },
  "language_info": {
   "codemirror_mode": {
    "name": "ipython",
    "version": 3
   },
   "file_extension": ".py",
   "mimetype": "text/x-python",
   "name": "python",
   "nbconvert_exporter": "python",
   "pygments_lexer": "ipython3",
   "version": "3.7.4"
  }
 },
 "nbformat": 4,
 "nbformat_minor": 2
}
