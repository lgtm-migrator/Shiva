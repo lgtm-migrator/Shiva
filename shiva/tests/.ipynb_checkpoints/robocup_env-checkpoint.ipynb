{
 "cells": [
  {
   "cell_type": "code",
   "execution_count": 6,
   "metadata": {},
   "outputs": [
    {
     "name": "stdout",
     "output_type": "stream",
     "text": [
      "['/home/daniel/Projects/Control-Tasks/Shiva/testing', '/home/daniel/anaconda3/lib/python37.zip', '/home/daniel/anaconda3/lib/python3.7', '/home/daniel/anaconda3/lib/python3.7/lib-dynload', '', '/home/daniel/venvs/shiva/lib/python3.7/site-packages', '/home/daniel/venvs/shiva/lib/python3.7/site-packages/IPython/extensions', '/home/daniel/.ipython', '/home/daniel/Projects/Control-Tasks/Shiva', '/home/daniel/Projects/Control-Tasks/Shiva', '/home/daniel/Projects/Control-Tasks/Shiva/testing']\n"
     ]
    }
   ],
   "source": [
    "import os, sys\n",
    "# sys.path.append(os.path.dirname(os.path.dirname(os.path.abspath('Environment.py'))))\n",
    "sys.path.append(os.path.dirname(os.path.abspath('utils')))\n",
    "# import Shiva\n",
    "print(sys.path)"
   ]
  },
  {
   "cell_type": "code",
   "execution_count": 8,
   "metadata": {},
   "outputs": [
    {
     "name": "stdout",
     "output_type": "stream",
     "text": [
      "/home/daniel/Projects/Control-Tasks/Shiva\n"
     ]
    }
   ],
   "source": [
    "cd .."
   ]
  },
  {
   "cell_type": "code",
   "execution_count": null,
   "metadata": {},
   "outputs": [],
   "source": []
  }
 ],
 "metadata": {
  "kernelspec": {
   "display_name": "Python 3",
   "language": "python",
   "name": "python3"
  },
  "language_info": {
   "codemirror_mode": {
    "name": "ipython",
    "version": 3
   },
   "file_extension": ".py",
   "mimetype": "text/x-python",
   "name": "python",
   "nbconvert_exporter": "python",
   "pygments_lexer": "ipython3",
   "version": "3.7.3"
  }
 },
 "nbformat": 4,
 "nbformat_minor": 2
}
