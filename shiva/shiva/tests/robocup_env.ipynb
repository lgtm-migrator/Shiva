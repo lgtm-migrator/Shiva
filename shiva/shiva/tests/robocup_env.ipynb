{
 "cells": [
  {
   "cell_type": "code",
   "execution_count": 1,
   "metadata": {},
   "outputs": [
    {
     "name": "stdout",
     "output_type": "stream",
     "text": [
      "/home/daniel/Projects/Control-Tasks/Shiva\n"
     ]
    }
   ],
   "source": [
    "cd ~/Projects/Control-Tasks/Shiva/"
   ]
  },
  {
   "cell_type": "code",
   "execution_count": 2,
   "metadata": {
    "scrolled": true
   },
   "outputs": [],
   "source": [
    "import os, sys\n",
    "sys.path.append(os.getcwd())\n",
    "sys.path.append(os.getcwd() + '/utils')\n",
    "sys.path.append(os.getcwd() + '/modules')\n",
    "sys.path.append(os.getcwd() + '/modules/robocup')"
   ]
  },
  {
   "cell_type": "code",
   "execution_count": 3,
   "metadata": {},
   "outputs": [],
   "source": [
    "import time\n",
    "import Shiva\n",
    "import modules.Environment as Env\n",
    "import robocup as rc"
   ]
  },
  {
   "cell_type": "code",
   "execution_count": 4,
   "metadata": {},
   "outputs": [],
   "source": [
    "shiva = Shiva.ShivaAdmin(os.getcwd() +'/init.ini')\n",
    "configs = shiva.get_inits()\n",
    "env_conf = configs[0]['Environment']"
   ]
  },
  {
   "cell_type": "code",
   "execution_count": null,
   "metadata": {},
   "outputs": [
    {
     "name": "stdout",
     "output_type": "stream",
     "text": [
      "Starting server with command: /home/daniel/Projects/Control-Tasks/Shiva/modules/robocup/HFO/bin/HFO --headless --frames-per-trial 500 --untouched-time 200 --offense-agents 1 --defense-agents 0 --offense-npcs 0 --defense-npcs 0 --port 45000 --offense-on-ball 0 --seed 523 --ball-x-min -0.100000 --ball-x-max 0.100000 --ball-y-min -0.100000 --ball-y-max 0.100000 --log-dir log --message-size 256 --fullstate --deterministic --no-logging\n"
     ]
    }
   ],
   "source": [
    "env = Env.initialize_env(env_conf)"
   ]
  },
  {
   "cell_type": "code",
   "execution_count": null,
   "metadata": {},
   "outputs": [],
   "source": []
  }
 ],
 "metadata": {
  "kernelspec": {
   "display_name": "Python 3",
   "language": "python",
   "name": "python3"
  },
  "language_info": {
   "codemirror_mode": {
    "name": "ipython",
    "version": 3
   },
   "file_extension": ".py",
   "mimetype": "text/x-python",
   "name": "python",
   "nbconvert_exporter": "python",
   "pygments_lexer": "ipython3",
   "version": "3.7.3"
  }
 },
 "nbformat": 4,
 "nbformat_minor": 2
}
