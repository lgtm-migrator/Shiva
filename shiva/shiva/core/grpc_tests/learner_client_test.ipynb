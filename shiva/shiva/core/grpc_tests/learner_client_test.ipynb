{
 "cells": [
  {
   "cell_type": "code",
   "execution_count": 261,
   "metadata": {
    "ExecuteTime": {
     "end_time": "2020-01-09T04:30:29.065749Z",
     "start_time": "2020-01-09T04:30:29.061822Z"
    }
   },
   "outputs": [],
   "source": [
    "import sys, os\n",
    "from pathlib import Path\n",
    "sys.path.append(str(Path(os.path.abspath('')).absolute().parent.parent.parent))"
   ]
  },
  {
   "cell_type": "code",
   "execution_count": 262,
   "metadata": {
    "ExecuteTime": {
     "end_time": "2020-01-09T04:30:29.321857Z",
     "start_time": "2020-01-09T04:30:29.316849Z"
    }
   },
   "outputs": [],
   "source": [
    "import random\n",
    "import numpy as np\n",
    "import grpc\n",
    "\n",
    "from shiva.core.communication_objects.helpers_pb2 import Empty\n",
    "from shiva.core.communication_objects.env_command_pb2 import EnvironmentCommand\n",
    "from shiva.core.communication_objects.env_step_pb2 import ( EnvStepInput, EnvStepOutput )\n",
    "from shiva.core.communication_objects.env_specs_pb2 import EnvironmentSpecs\n",
    "from shiva.core.communication_objects.env_metrics_pb2 import AgentMetrics\n",
    "from shiva.core.communication_objects.agent_state_pb2 import AgentState\n",
    "from shiva.core.communication_objects.service_env_pb2_grpc import EnvironmentStub, EnvironmentServicer, add_EnvironmentServicer_to_server"
   ]
  },
  {
   "cell_type": "code",
   "execution_count": 263,
   "metadata": {
    "ExecuteTime": {
     "end_time": "2020-01-09T04:30:29.799933Z",
     "start_time": "2020-01-09T04:30:29.794460Z"
    }
   },
   "outputs": [],
   "source": [
    "def action2one_hot(action_space: int, action_idx: int, numpy: bool=True) -> np.ndarray:\n",
    "    '''\n",
    "        Returns a one-hot encoded numpy.ndarray\n",
    "    '''\n",
    "    z = np.zeros(action_space)\n",
    "    z[action_idx] = 1\n",
    "    return z if numpy else list(z)"
   ]
  },
  {
   "cell_type": "code",
   "execution_count": 264,
   "metadata": {
    "ExecuteTime": {
     "end_time": "2020-01-09T04:30:31.487521Z",
     "start_time": "2020-01-09T04:30:31.484921Z"
    }
   },
   "outputs": [],
   "source": [
    "# def get_specs():\n",
    "#     channel = grpc.insecure_channel('localhost:50051')\n",
    "#     stub = EnvironmentStub(channel)\n",
    "\n",
    "#     specs = stub.GetSpecs(Empty())\n",
    "    \n",
    "#     return specs"
   ]
  },
  {
   "cell_type": "code",
   "execution_count": 265,
   "metadata": {
    "ExecuteTime": {
     "end_time": "2020-01-09T04:30:31.742765Z",
     "start_time": "2020-01-09T04:30:31.740312Z"
    }
   },
   "outputs": [],
   "source": [
    "# get_specs()"
   ]
  },
  {
   "cell_type": "code",
   "execution_count": 266,
   "metadata": {
    "ExecuteTime": {
     "end_time": "2020-01-09T04:30:32.111008Z",
     "start_time": "2020-01-09T04:30:32.107841Z"
    }
   },
   "outputs": [],
   "source": [
    "def get_network_action(action_space):\n",
    "    return action2one_hot(action_space, random.randint(0, action_space-1), False)"
   ]
  },
  {
   "cell_type": "code",
   "execution_count": 289,
   "metadata": {
    "ExecuteTime": {
     "end_time": "2020-01-09T05:18:21.038882Z",
     "start_time": "2020-01-09T05:18:21.033519Z"
    }
   },
   "outputs": [],
   "source": [
    "def run():\n",
    "    channel = grpc.insecure_channel('localhost:50051')\n",
    "    stub = EnvironmentStub(channel)\n",
    "    \n",
    "    specs = stub.GetSpecs(Empty())\n",
    "    \n",
    "#     print(specs)\n",
    "    \n",
    "    env_in = EnvStepInput()\n",
    "    \n",
    "    agent_id = '0'\n",
    "\n",
    "    action = env_in.agent_actions[agent_id].data.add()\n",
    "    action.data.extend(get_network_action(specs.action_space.discrete))\n",
    "\n",
    "    env_in.command = EnvironmentCommand.STEP\n",
    "\n",
    "    env_state = stub.Step(env_in)\n",
    "    \n",
    "#     print(env_state)\n",
    "    return env_state"
   ]
  },
  {
   "cell_type": "code",
   "execution_count": 292,
   "metadata": {
    "ExecuteTime": {
     "end_time": "2020-01-09T05:18:27.753138Z",
     "start_time": "2020-01-09T05:18:27.745556Z"
    }
   },
   "outputs": [
    {
     "data": {
      "text/plain": [
       "agent_states {\n",
       "  key: \"0\"\n",
       "  value {\n",
       "    data {\n",
       "      next_observation {\n",
       "        data: 0.9190667867660522\n",
       "        data: 0.9888443350791931\n",
       "        data: 0.3270346522331238\n",
       "        data: 0.06301821768283844\n",
       "        data: 0.18770290911197662\n",
       "      }\n",
       "      reward: 0.19976165890693665\n",
       "    }\n",
       "    data {\n",
       "      next_observation {\n",
       "        data: 0.8627603054046631\n",
       "        data: 0.10960359126329422\n",
       "        data: 0.005756767001003027\n",
       "        data: 0.3956153392791748\n",
       "        data: 0.13649950921535492\n",
       "      }\n",
       "      reward: 0.9051660299301147\n",
       "    }\n",
       "    data {\n",
       "      next_observation {\n",
       "        data: 0.4627743065357208\n",
       "        data: 0.05693043768405914\n",
       "        data: 0.10005635023117065\n",
       "        data: 0.6226266026496887\n",
       "        data: 0.005160175729542971\n",
       "      }\n",
       "      reward: 0.6469001770019531\n",
       "      done: true\n",
       "    }\n",
       "    data {\n",
       "      next_observation {\n",
       "        data: 0.9444210529327393\n",
       "        data: 0.5428276658058167\n",
       "        data: 0.8832617998123169\n",
       "        data: 0.37248942255973816\n",
       "        data: 0.4699847996234894\n",
       "      }\n",
       "      reward: 0.5128268599510193\n",
       "    }\n",
       "    data {\n",
       "      next_observation {\n",
       "        data: 0.2952394187450409\n",
       "        data: 0.7981147766113281\n",
       "        data: 0.31981784105300903\n",
       "        data: 0.18128618597984314\n",
       "        data: 0.8482525944709778\n",
       "      }\n",
       "      reward: 0.5906623005867004\n",
       "    }\n",
       "  }\n",
       "}\n",
       "agent_states {\n",
       "  key: \"1\"\n",
       "  value {\n",
       "    data {\n",
       "      next_observation {\n",
       "        data: 0.07857189327478409\n",
       "        data: 0.17829734086990356\n",
       "        data: 0.815300464630127\n",
       "        data: 0.49014991521835327\n",
       "        data: 0.17742472887039185\n",
       "      }\n",
       "      reward: 0.357793927192688\n",
       "      done: true\n",
       "    }\n",
       "    data {\n",
       "      next_observation {\n",
       "        data: 0.1790095418691635\n",
       "        data: 0.5148512125015259\n",
       "        data: 0.6103888750076294\n",
       "        data: 0.13531847298145294\n",
       "        data: 0.9544655680656433\n",
       "      }\n",
       "      reward: 0.8785677552223206\n",
       "    }\n",
       "    data {\n",
       "      next_observation {\n",
       "        data: 0.6721979379653931\n",
       "        data: 0.06448831409215927\n",
       "        data: 0.4916455149650574\n",
       "        data: 0.3176288902759552\n",
       "        data: 0.1705256998538971\n",
       "      }\n",
       "      reward: 0.4471176564693451\n",
       "    }\n",
       "    data {\n",
       "      next_observation {\n",
       "        data: 0.8779865503311157\n",
       "        data: 0.4900813102722168\n",
       "        data: 0.7715855836868286\n",
       "        data: 0.7045268416404724\n",
       "        data: 0.16311539709568024\n",
       "      }\n",
       "      reward: 0.5569469928741455\n",
       "    }\n",
       "    data {\n",
       "      next_observation {\n",
       "        data: 0.2473909705877304\n",
       "        data: 0.5375515818595886\n",
       "        data: 0.8278051614761353\n",
       "        data: 0.057633738964796066\n",
       "        data: 0.6647248864173889\n",
       "      }\n",
       "      reward: 0.889315664768219\n",
       "    }\n",
       "  }\n",
       "}\n",
       "agent_metrics {\n",
       "  key: \"0\"\n",
       "  value {\n",
       "    data {\n",
       "      steps_per_episode: 1.0\n",
       "      step_count: 2.0\n",
       "      temp_done_counter: 3.0\n",
       "      done_count: 4.0\n",
       "      reward_per_step: 5.0\n",
       "      reward_per_episode: 6.0\n",
       "      reward_total: 7.0\n",
       "    }\n",
       "  }\n",
       "}\n",
       "agent_metrics {\n",
       "  key: \"1\"\n",
       "  value {\n",
       "    data {\n",
       "      steps_per_episode: 1.0\n",
       "      step_count: 2.0\n",
       "      temp_done_counter: 3.0\n",
       "      done_count: 4.0\n",
       "      reward_per_step: 5.0\n",
       "      reward_per_episode: 6.0\n",
       "      reward_total: 7.0\n",
       "    }\n",
       "  }\n",
       "}"
      ]
     },
     "execution_count": 292,
     "metadata": {},
     "output_type": "execute_result"
    }
   ],
   "source": [
    "for _ in range(1):\n",
    "    env_output = run()\n",
    "env_output"
   ]
  },
  {
   "cell_type": "code",
   "execution_count": null,
   "metadata": {
    "ExecuteTime": {
     "end_time": "2020-01-09T00:34:20.636000Z",
     "start_time": "2020-01-09T00:34:20.631862Z"
    }
   },
   "outputs": [],
   "source": []
  },
  {
   "cell_type": "markdown",
   "metadata": {
    "ExecuteTime": {
     "end_time": "2020-01-07T10:05:21.752435Z",
     "start_time": "2020-01-07T10:05:21.747407Z"
    }
   },
   "source": [
    "# Client side"
   ]
  },
  {
   "cell_type": "code",
   "execution_count": 91,
   "metadata": {
    "ExecuteTime": {
     "end_time": "2020-01-09T02:15:17.495404Z",
     "start_time": "2020-01-09T02:15:17.488069Z"
    }
   },
   "outputs": [
    {
     "data": {
      "text/plain": [
       "agent_actions {\n",
       "  key: \"0\"\n",
       "  value {\n",
       "    data {\n",
       "      data: 0.48928579688072205\n",
       "      data: 0.019176052883267403\n",
       "      data: 0.6886849403381348\n",
       "      data: 0.8342480659484863\n",
       "      data: 0.9397267699241638\n",
       "    }\n",
       "    data {\n",
       "      data: 1.0\n",
       "      data: 2.0\n",
       "      data: 4.0\n",
       "      data: 4.0\n",
       "      data: 2.0\n",
       "    }\n",
       "  }\n",
       "}"
      ]
     },
     "execution_count": 91,
     "metadata": {},
     "output_type": "execute_result"
    }
   ],
   "source": [
    "env_in = EnvStepInput()\n",
    "\n",
    "action = env_in.agent_actions['0'].data.add()\n",
    "action.data.extend(np.random.rand(5))\n",
    "\n",
    "action = env_in.agent_actions['0'].data.add()\n",
    "action.data.extend([np.random.randint(1,5) for _ in range(5)])\n",
    "\n",
    "env_in.command = EnvironmentCommand.STEP\n",
    "env_in"
   ]
  },
  {
   "cell_type": "code",
   "execution_count": null,
   "metadata": {
    "ExecuteTime": {
     "end_time": "2020-01-08T09:01:07.743114Z",
     "start_time": "2020-01-08T09:01:07.738457Z"
    }
   },
   "outputs": [],
   "source": [
    "v = list(env_in.agent_actions.keys())\n",
    "v"
   ]
  },
  {
   "cell_type": "code",
   "execution_count": null,
   "metadata": {
    "ExecuteTime": {
     "end_time": "2020-01-08T09:02:03.156700Z",
     "start_time": "2020-01-08T09:02:03.151552Z"
    }
   },
   "outputs": [],
   "source": [
    "env_in.agent_actions[v[0]].data"
   ]
  },
  {
   "cell_type": "code",
   "execution_count": null,
   "metadata": {
    "ExecuteTime": {
     "end_time": "2020-01-08T09:09:26.569817Z",
     "start_time": "2020-01-08T09:09:26.566506Z"
    }
   },
   "outputs": [],
   "source": [
    "agent_action = env_in.agent_actions[v[0]].data"
   ]
  },
  {
   "cell_type": "code",
   "execution_count": null,
   "metadata": {
    "ExecuteTime": {
     "end_time": "2020-01-08T09:09:31.331715Z",
     "start_time": "2020-01-08T09:09:31.326902Z"
    }
   },
   "outputs": [],
   "source": [
    "len(agent_action)"
   ]
  },
  {
   "cell_type": "code",
   "execution_count": null,
   "metadata": {
    "ExecuteTime": {
     "end_time": "2020-01-08T09:09:27.018698Z",
     "start_time": "2020-01-08T09:09:27.013826Z"
    }
   },
   "outputs": [],
   "source": [
    "agent_action[0].data"
   ]
  },
  {
   "cell_type": "code",
   "execution_count": null,
   "metadata": {
    "ExecuteTime": {
     "end_time": "2020-01-08T09:09:27.475534Z",
     "start_time": "2020-01-08T09:09:27.471579Z"
    }
   },
   "outputs": [],
   "source": [
    "agent_action[1].data"
   ]
  },
  {
   "cell_type": "code",
   "execution_count": null,
   "metadata": {
    "ExecuteTime": {
     "end_time": "2020-01-08T09:12:06.101188Z",
     "start_time": "2020-01-08T09:12:06.098265Z"
    }
   },
   "outputs": [],
   "source": [
    "all_agents_instances_actions = []"
   ]
  },
  {
   "cell_type": "code",
   "execution_count": null,
   "metadata": {
    "ExecuteTime": {
     "end_time": "2020-01-08T09:12:12.011036Z",
     "start_time": "2020-01-08T09:12:12.007766Z"
    }
   },
   "outputs": [],
   "source": [
    "all_agents_instances_actions.append([ agent_action[i].data for i in range(len(agent_action)) ])"
   ]
  },
  {
   "cell_type": "code",
   "execution_count": null,
   "metadata": {
    "ExecuteTime": {
     "end_time": "2020-01-08T09:12:17.293583Z",
     "start_time": "2020-01-08T09:12:17.288710Z"
    }
   },
   "outputs": [],
   "source": [
    "all_agents_instances_actions[0]"
   ]
  },
  {
   "cell_type": "markdown",
   "metadata": {},
   "source": [
    "# Server side"
   ]
  },
  {
   "cell_type": "code",
   "execution_count": null,
   "metadata": {
    "ExecuteTime": {
     "end_time": "2020-01-08T07:08:09.404842Z",
     "start_time": "2020-01-08T07:08:09.398489Z"
    }
   },
   "outputs": [],
   "source": [
    "a = AgentState()\n",
    "a.next_observation.data.extend(np.random.rand(5)) \n",
    "a.reward = np.random.rand(1)[0]\n",
    "a.done = bool(random.randint(0,2))\n",
    "a"
   ]
  },
  {
   "cell_type": "code",
   "execution_count": 271,
   "metadata": {
    "ExecuteTime": {
     "end_time": "2020-01-09T04:48:33.920461Z",
     "start_time": "2020-01-09T04:48:33.910236Z"
    }
   },
   "outputs": [
    {
     "data": {
      "text/plain": [
       "agent_states {\n",
       "  key: \"0\"\n",
       "  value {\n",
       "    data {\n",
       "      next_observation {\n",
       "        data: 0.945131778717041\n",
       "        data: 0.9291877150535583\n",
       "        data: 0.43990474939346313\n",
       "        data: 0.7788233160972595\n",
       "        data: 0.27262768149375916\n",
       "      }\n",
       "      reward: 0.6456766128540039\n",
       "    }\n",
       "  }\n",
       "}\n",
       "agent_states {\n",
       "  key: \"1\"\n",
       "  value {\n",
       "    data {\n",
       "      next_observation {\n",
       "        data: 0.8197154998779297\n",
       "        data: 0.4252639412879944\n",
       "        data: 0.07176996022462845\n",
       "        data: 0.9502240419387817\n",
       "        data: 0.5882408022880554\n",
       "      }\n",
       "      reward: 0.4324740767478943\n",
       "      done: true\n",
       "    }\n",
       "  }\n",
       "}\n",
       "agent_metrics {\n",
       "  key: \"0\"\n",
       "  value {\n",
       "    data {\n",
       "      steps_per_episode: 1.0\n",
       "      step_count: 2.0\n",
       "      temp_done_counter: 3.0\n",
       "      done_count: 4.0\n",
       "      reward_per_step: 5.0\n",
       "      reward_per_episode: 6.0\n",
       "      reward_total: 7.0\n",
       "    }\n",
       "  }\n",
       "}"
      ]
     },
     "execution_count": 271,
     "metadata": {},
     "output_type": "execute_result"
    }
   ],
   "source": [
    "env_state = EnvStepOutput()\n",
    "\n",
    "a = env_state.agent_states['0'].data.add()\n",
    "a.next_observation.data.extend(np.random.rand(5))\n",
    "a.reward = np.random.rand(1)[0]\n",
    "a.done = bool(random.randint(0, 1))\n",
    "\n",
    "a = env_state.agent_states['1'].data.add()\n",
    "a.next_observation.data.extend(np.random.rand(5))\n",
    "a.reward = np.random.rand(1)[0]\n",
    "a.done = bool(random.randint(0, 1))\n",
    "\n",
    "m = env_state.agent_metrics['0'].data.add()\n",
    "m.steps_per_episode = 1\n",
    "m.step_count = 2\n",
    "m.temp_done_counter = 3\n",
    "m.done_count = 4\n",
    "m.reward_per_step = 5\n",
    "m.reward_per_episode = 6\n",
    "m.reward_total = 7\n",
    "env_state"
   ]
  },
  {
   "cell_type": "code",
   "execution_count": 64,
   "metadata": {
    "ExecuteTime": {
     "end_time": "2020-01-09T01:42:28.147626Z",
     "start_time": "2020-01-09T01:42:28.141708Z"
    }
   },
   "outputs": [
    {
     "data": {
      "text/plain": [
       "observation_space: 1\n",
       "action_space {\n",
       "  discrete: 2\n",
       "  acs_space: 2\n",
       "}\n",
       "num_instances: 3\n",
       "num_agents_per_instance: 4"
      ]
     },
     "execution_count": 64,
     "metadata": {},
     "output_type": "execute_result"
    }
   ],
   "source": [
    "env_specs = EnvironmentSpecs()\n",
    "env_specs.observation_space = 1\n",
    "env_specs.action_space.discrete = 2\n",
    "env_specs.action_space.param = 0\n",
    "env_specs.action_space.acs_space = 2\n",
    "env_specs.num_instances = 3\n",
    "env_specs.num_agents_per_instance = 4\n",
    "env_specs"
   ]
  },
  {
   "cell_type": "markdown",
   "metadata": {},
   "source": [
    "# Test on Parsing different Action shapes"
   ]
  },
  {
   "cell_type": "markdown",
   "metadata": {},
   "source": [
    "# 1 Agent, 1 Instance, Action Space = 3"
   ]
  },
  {
   "cell_type": "code",
   "execution_count": 161,
   "metadata": {
    "ExecuteTime": {
     "end_time": "2020-01-09T03:45:15.365151Z",
     "start_time": "2020-01-09T03:45:15.360089Z"
    }
   },
   "outputs": [
    {
     "data": {
      "text/plain": [
       "tensor([0.1901, 0.5170, 0.4198])"
      ]
     },
     "execution_count": 161,
     "metadata": {},
     "output_type": "execute_result"
    }
   ],
   "source": [
    "act = torch.rand(3)\n",
    "act"
   ]
  },
  {
   "cell_type": "markdown",
   "metadata": {},
   "source": [
    "# 1 Agent, 2 Instances, Action Space = 3"
   ]
  },
  {
   "cell_type": "code",
   "execution_count": 177,
   "metadata": {
    "ExecuteTime": {
     "end_time": "2020-01-09T03:46:10.643114Z",
     "start_time": "2020-01-09T03:46:10.638081Z"
    }
   },
   "outputs": [
    {
     "data": {
      "text/plain": [
       "tensor([[0.0273, 0.8652, 0.6796],\n",
       "        [0.8758, 0.5200, 0.5812]])"
      ]
     },
     "execution_count": 177,
     "metadata": {},
     "output_type": "execute_result"
    }
   ],
   "source": [
    "act = torch.rand(2, 3)\n",
    "act"
   ]
  },
  {
   "cell_type": "code",
   "execution_count": 178,
   "metadata": {
    "ExecuteTime": {
     "end_time": "2020-01-09T03:46:10.839814Z",
     "start_time": "2020-01-09T03:46:10.835981Z"
    }
   },
   "outputs": [
    {
     "data": {
      "text/plain": [
       "torch.Size([2, 3])"
      ]
     },
     "execution_count": 178,
     "metadata": {},
     "output_type": "execute_result"
    }
   ],
   "source": [
    "act.shape"
   ]
  },
  {
   "cell_type": "code",
   "execution_count": 179,
   "metadata": {
    "ExecuteTime": {
     "end_time": "2020-01-09T03:46:11.056852Z",
     "start_time": "2020-01-09T03:46:11.052838Z"
    }
   },
   "outputs": [
    {
     "data": {
      "text/plain": [
       "True"
      ]
     },
     "execution_count": 179,
     "metadata": {},
     "output_type": "execute_result"
    }
   ],
   "source": [
    "len(act.shape) == 2"
   ]
  },
  {
   "cell_type": "code",
   "execution_count": 180,
   "metadata": {
    "ExecuteTime": {
     "end_time": "2020-01-09T03:46:18.299778Z",
     "start_time": "2020-01-09T03:46:18.294087Z"
    }
   },
   "outputs": [
    {
     "name": "stdout",
     "output_type": "stream",
     "text": [
      "Agent 0\n",
      "\tInstance 0 --> tensor([0.0273, 0.8652, 0.6796])\n",
      "\tInstance 1 --> tensor([0.8758, 0.5200, 0.5812])\n"
     ]
    }
   ],
   "source": [
    "print('Agent 0')\n",
    "for n_instance in range(act.shape[0]):\n",
    "    print('\\tInstance {} --> {}'.format(n_instance, act[n_instance]))"
   ]
  },
  {
   "cell_type": "markdown",
   "metadata": {},
   "source": [
    "# 3 Agents, 2 Instances, Action Space = 3"
   ]
  },
  {
   "cell_type": "code",
   "execution_count": 166,
   "metadata": {
    "ExecuteTime": {
     "end_time": "2020-01-09T03:45:25.387035Z",
     "start_time": "2020-01-09T03:45:25.382139Z"
    }
   },
   "outputs": [
    {
     "data": {
      "text/plain": [
       "tensor([[[0.0319, 0.6395, 0.4325],\n",
       "         [0.0143, 0.0948, 0.4598]],\n",
       "\n",
       "        [[0.3606, 0.9219, 0.6354],\n",
       "         [0.3092, 0.5361, 0.5611]],\n",
       "\n",
       "        [[0.6553, 0.2330, 0.5499],\n",
       "         [0.7051, 0.2312, 0.9553]]])"
      ]
     },
     "execution_count": 166,
     "metadata": {},
     "output_type": "execute_result"
    }
   ],
   "source": [
    "act = torch.rand(3, 2, 3)\n",
    "act"
   ]
  },
  {
   "cell_type": "code",
   "execution_count": 167,
   "metadata": {
    "ExecuteTime": {
     "end_time": "2020-01-09T03:45:25.531668Z",
     "start_time": "2020-01-09T03:45:25.527885Z"
    }
   },
   "outputs": [
    {
     "data": {
      "text/plain": [
       "torch.Size([3, 2, 3])"
      ]
     },
     "execution_count": 167,
     "metadata": {},
     "output_type": "execute_result"
    }
   ],
   "source": [
    "act.shape"
   ]
  },
  {
   "cell_type": "code",
   "execution_count": 168,
   "metadata": {
    "ExecuteTime": {
     "end_time": "2020-01-09T03:45:25.707072Z",
     "start_time": "2020-01-09T03:45:25.703010Z"
    }
   },
   "outputs": [
    {
     "data": {
      "text/plain": [
       "True"
      ]
     },
     "execution_count": 168,
     "metadata": {},
     "output_type": "execute_result"
    }
   ],
   "source": [
    "len(act.shape) == 3"
   ]
  },
  {
   "cell_type": "code",
   "execution_count": 170,
   "metadata": {
    "ExecuteTime": {
     "end_time": "2020-01-09T03:45:46.014412Z",
     "start_time": "2020-01-09T03:45:46.005632Z"
    }
   },
   "outputs": [
    {
     "name": "stdout",
     "output_type": "stream",
     "text": [
      "Agent 0\n",
      "\tInstance 0 --> tensor([0.0319, 0.6395, 0.4325])\n",
      "\tInstance 1 --> tensor([0.0143, 0.0948, 0.4598])\n",
      "Agent 1\n",
      "\tInstance 0 --> tensor([0.3606, 0.9219, 0.6354])\n",
      "\tInstance 1 --> tensor([0.3092, 0.5361, 0.5611])\n",
      "Agent 2\n",
      "\tInstance 0 --> tensor([0.6553, 0.2330, 0.5499])\n",
      "\tInstance 1 --> tensor([0.7051, 0.2312, 0.9553])\n"
     ]
    }
   ],
   "source": [
    "for n_agent in range(act.shape[0]):\n",
    "    print('Agent {}'.format(n_agent))\n",
    "    for n_instance in range(act.shape[1]):\n",
    "        print('\\tInstance {} --> {}'.format(n_instance, act[n_agent, n_instance]))"
   ]
  },
  {
   "cell_type": "markdown",
   "metadata": {},
   "source": [
    "# Test for parsing the EnvOutputStep\n",
    "\n",
    "- MultiAgent\n",
    "- MultiInstance"
   ]
  },
  {
   "cell_type": "code",
   "execution_count": 327,
   "metadata": {
    "ExecuteTime": {
     "end_time": "2020-01-09T05:32:21.809276Z",
     "start_time": "2020-01-09T05:32:21.802994Z"
    }
   },
   "outputs": [],
   "source": [
    "env_output = run()"
   ]
  },
  {
   "cell_type": "code",
   "execution_count": 328,
   "metadata": {
    "ExecuteTime": {
     "end_time": "2020-01-09T05:32:22.125451Z",
     "start_time": "2020-01-09T05:32:22.121156Z"
    }
   },
   "outputs": [
    {
     "data": {
      "text/plain": [
       "agent_states {\n",
       "  key: \"0\"\n",
       "  value {\n",
       "    data {\n",
       "      next_observation {\n",
       "        data: 0.9263609051704407\n",
       "        data: 0.6020965576171875\n",
       "        data: 0.8852146863937378\n",
       "        data: 0.02316807396709919\n",
       "        data: 0.45889753103256226\n",
       "      }\n",
       "      reward: 0.7580342888832092\n",
       "      done: true\n",
       "    }\n",
       "  }\n",
       "}\n",
       "agent_metrics {\n",
       "  key: \"0\"\n",
       "  value {\n",
       "    data {\n",
       "      steps_per_episode: 1.0\n",
       "      step_count: 2.0\n",
       "      temp_done_counter: 3.0\n",
       "      done_count: 4.0\n",
       "      reward_per_step: 5.0\n",
       "      reward_per_episode: 6.0\n",
       "      reward_total: 7.0\n",
       "    }\n",
       "  }\n",
       "}"
      ]
     },
     "execution_count": 328,
     "metadata": {},
     "output_type": "execute_result"
    }
   ],
   "source": [
    "env_output"
   ]
  },
  {
   "cell_type": "code",
   "execution_count": 360,
   "metadata": {
    "ExecuteTime": {
     "end_time": "2020-01-09T05:37:32.220264Z",
     "start_time": "2020-01-09T05:37:32.215601Z"
    }
   },
   "outputs": [],
   "source": [
    "traj = {}\n",
    "for a_id in list(env_output.agent_states.keys()):\n",
    "    traj[a_id] = []\n",
    "    for state in list(env_output.agent_states[a_id].data):\n",
    "        experience = [state.next_observation.data, state.reward, state.done]\n",
    "        traj[a_id].append(experience)"
   ]
  },
  {
   "cell_type": "code",
   "execution_count": 374,
   "metadata": {
    "ExecuteTime": {
     "end_time": "2020-01-09T05:41:32.131178Z",
     "start_time": "2020-01-09T05:41:32.127062Z"
    }
   },
   "outputs": [
    {
     "data": {
      "text/plain": [
       "{'0': [[[0.9263609051704407, 0.6020965576171875, 0.8852146863937378, 0.02316807396709919, 0.45889753103256226],\n",
       "   0.7580342888832092,\n",
       "   True]]}"
      ]
     },
     "execution_count": 374,
     "metadata": {},
     "output_type": "execute_result"
    }
   ],
   "source": [
    "traj"
   ]
  },
  {
   "cell_type": "code",
   "execution_count": 375,
   "metadata": {
    "ExecuteTime": {
     "end_time": "2020-01-09T05:49:14.010653Z",
     "start_time": "2020-01-09T05:49:14.005634Z"
    }
   },
   "outputs": [],
   "source": [
    "def from_EnvStepOutput_to_standard(env_output):\n",
    "    agent_ids = list(env_output.agent_states.keys())\n",
    "    agent_id = agent_ids[0] # SINGLE AGENT PROCESSING\n",
    "    traj = {}\n",
    "    for a_id in agent_ids:\n",
    "        traj[a_id] = []\n",
    "        for state in list(env_output.agent_states[a_id].data):\n",
    "            experience = [state.next_observation.data, state.reward, state.done]\n",
    "            traj[a_id].append(experience)\n",
    "    return traj['0'][0]"
   ]
  },
  {
   "cell_type": "code",
   "execution_count": 376,
   "metadata": {
    "ExecuteTime": {
     "end_time": "2020-01-09T05:49:14.167907Z",
     "start_time": "2020-01-09T05:49:14.165100Z"
    }
   },
   "outputs": [],
   "source": [
    "obs, rew, done = from_EnvStepOutput_to_standard(env_output)"
   ]
  },
  {
   "cell_type": "code",
   "execution_count": 377,
   "metadata": {
    "ExecuteTime": {
     "end_time": "2020-01-09T05:49:14.316924Z",
     "start_time": "2020-01-09T05:49:14.312879Z"
    }
   },
   "outputs": [
    {
     "data": {
      "text/plain": [
       "([0.9263609051704407, 0.6020965576171875, 0.8852146863937378, 0.02316807396709919, 0.45889753103256226],\n",
       " 0.7580342888832092,\n",
       " True)"
      ]
     },
     "execution_count": 377,
     "metadata": {},
     "output_type": "execute_result"
    }
   ],
   "source": [
    "obs, rew, done"
   ]
  },
  {
   "cell_type": "code",
   "execution_count": 418,
   "metadata": {
    "ExecuteTime": {
     "end_time": "2020-01-09T06:15:27.497489Z",
     "start_time": "2020-01-09T06:15:27.492829Z"
    }
   },
   "outputs": [],
   "source": [
    "def set_metrics(self):\n",
    "    agent_ids = list(env_output.agent_metrics.keys())\n",
    "    agent_id = agent_ids[0] # SINGLE AGENT PROCESSING\n",
    "    metric = {}\n",
    "    for a_id in agent_ids:\n",
    "        metric[a_id] = env_output.agent_metrics[a_id].data[0]\n",
    "    return metric"
   ]
  },
  {
   "cell_type": "code",
   "execution_count": 419,
   "metadata": {
    "ExecuteTime": {
     "end_time": "2020-01-09T06:15:27.838989Z",
     "start_time": "2020-01-09T06:15:27.835622Z"
    }
   },
   "outputs": [],
   "source": [
    "m = set_metrics(env_output)"
   ]
  },
  {
   "cell_type": "code",
   "execution_count": null,
   "metadata": {},
   "outputs": [],
   "source": []
  }
 ],
 "metadata": {
  "kernelspec": {
   "display_name": "Python 3",
   "language": "python",
   "name": "python3"
  },
  "language_info": {
   "codemirror_mode": {
    "name": "ipython",
    "version": 3
   },
   "file_extension": ".py",
   "mimetype": "text/x-python",
   "name": "python",
   "nbconvert_exporter": "python",
   "pygments_lexer": "ipython3",
   "version": "3.7.2"
  }
 },
 "nbformat": 4,
 "nbformat_minor": 2
}
