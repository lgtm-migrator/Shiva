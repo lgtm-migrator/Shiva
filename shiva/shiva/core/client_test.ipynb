{
 "cells": [
  {
   "cell_type": "code",
   "execution_count": 1,
   "metadata": {
    "ExecuteTime": {
     "end_time": "2020-01-08T07:04:38.827610Z",
     "start_time": "2020-01-08T07:04:38.822952Z"
    }
   },
   "outputs": [],
   "source": [
    "import sys, os\n",
    "from pathlib import Path\n",
    "sys.path.append(str(Path(os.path.abspath('')).absolute().parent.parent))"
   ]
  },
  {
   "cell_type": "code",
   "execution_count": 13,
   "metadata": {
    "ExecuteTime": {
     "end_time": "2020-01-08T07:06:47.111133Z",
     "start_time": "2020-01-08T07:06:47.105906Z"
    }
   },
   "outputs": [],
   "source": [
    "import random\n",
    "import numpy as np\n",
    "import grpc\n",
    "\n",
    "from shiva.core.communication_objects.env_command_pb2 import EnvironmentCommand\n",
    "from shiva.core.communication_objects.env_step_pb2 import ( EnvStepInput, EnvStepOutput )\n",
    "from shiva.core.communication_objects.env_specs_pb2 import EnvironmentSpecs\n",
    "from shiva.core.communication_objects.env_metrics_pb2 import AgentMetrics\n",
    "from shiva.core.communication_objects.agent_state_pb2 import AgentState\n",
    "from shiva.core.communication_objects.service_env_pb2_grpc import EnvironmentStub, EnvironmentServicer, add_EnvironmentServicer_to_server"
   ]
  },
  {
   "cell_type": "code",
   "execution_count": 19,
   "metadata": {
    "ExecuteTime": {
     "end_time": "2020-01-08T07:07:08.424441Z",
     "start_time": "2020-01-08T07:07:08.418245Z"
    }
   },
   "outputs": [],
   "source": [
    "def run():\n",
    "    with grpc.insecure_channel('localhost:50051') as channel:\n",
    "        stub = EnvironmentStub(channel)\n",
    "        \n",
    "        env_in = EnvStepInput()\n",
    "\n",
    "        action = env_in.agent_actions['0'].data.add()\n",
    "        action.data.extend(np.random.rand(5))\n",
    "\n",
    "        action = env_in.agent_actions['1'].data.add()\n",
    "        action.data.extend([np.random.randint(1,5) for _ in range(3)])\n",
    "\n",
    "        env_in.command = EnvironmentCommand.STEP\n",
    "\n",
    "        env_state = stub.Step(env_in)\n",
    "        return env_state"
   ]
  },
  {
   "cell_type": "code",
   "execution_count": 24,
   "metadata": {
    "ExecuteTime": {
     "end_time": "2020-01-08T07:07:56.854029Z",
     "start_time": "2020-01-08T07:07:56.839618Z"
    }
   },
   "outputs": [],
   "source": [
    "s = []\n",
    "for _ in range(5):\n",
    "    state = run()\n",
    "    s.append(state)"
   ]
  },
  {
   "cell_type": "code",
   "execution_count": 26,
   "metadata": {
    "ExecuteTime": {
     "end_time": "2020-01-08T07:08:05.212010Z",
     "start_time": "2020-01-08T07:08:05.207400Z"
    }
   },
   "outputs": [
    {
     "data": {
      "text/plain": [
       "agent_states {\n",
       "  key: \"0\"\n",
       "  value {\n",
       "    data {\n",
       "      next_observation {\n",
       "        data: 0.6423773169517517\n",
       "        data: 0.926799476146698\n",
       "        data: 0.3249926269054413\n",
       "        data: 0.9849494099617004\n",
       "        data: 0.6095330119132996\n",
       "      }\n",
       "      reward: 0.24065637588500977\n",
       "    }\n",
       "  }\n",
       "}\n",
       "agent_states {\n",
       "  key: \"1\"\n",
       "  value {\n",
       "    data {\n",
       "      next_observation {\n",
       "        data: 0.7816311717033386\n",
       "        data: 0.38939034938812256\n",
       "        data: 0.5860176086425781\n",
       "        data: 0.5583418011665344\n",
       "        data: 0.7874003648757935\n",
       "      }\n",
       "      reward: 0.9832462072372437\n",
       "    }\n",
       "  }\n",
       "}\n",
       "agent_metrics {\n",
       "  key: \"0\"\n",
       "  value {\n",
       "    data {\n",
       "      steps_per_episode: 1.0\n",
       "      step_count: 2.0\n",
       "      temp_done_counter: 3.0\n",
       "      done_count: 4.0\n",
       "      reward_per_step: 5.0\n",
       "      reward_per_episode: 6.0\n",
       "      reward_total: 7.0\n",
       "    }\n",
       "  }\n",
       "}"
      ]
     },
     "execution_count": 26,
     "metadata": {},
     "output_type": "execute_result"
    }
   ],
   "source": [
    "s[0]"
   ]
  },
  {
   "cell_type": "markdown",
   "metadata": {
    "ExecuteTime": {
     "end_time": "2020-01-07T10:05:21.752435Z",
     "start_time": "2020-01-07T10:05:21.747407Z"
    }
   },
   "source": [
    "# Client side"
   ]
  },
  {
   "cell_type": "code",
   "execution_count": 27,
   "metadata": {
    "ExecuteTime": {
     "end_time": "2020-01-08T07:08:07.830352Z",
     "start_time": "2020-01-08T07:08:07.822844Z"
    }
   },
   "outputs": [
    {
     "data": {
      "text/plain": [
       "agent_actions {\n",
       "  key: \"0\"\n",
       "  value {\n",
       "    data {\n",
       "      data: 0.22562913596630096\n",
       "      data: 0.06373032927513123\n",
       "      data: 0.3242224156856537\n",
       "      data: 0.4104943871498108\n",
       "      data: 0.377702534198761\n",
       "    }\n",
       "  }\n",
       "}\n",
       "agent_actions {\n",
       "  key: \"1\"\n",
       "  value {\n",
       "    data {\n",
       "      data: 2.0\n",
       "      data: 2.0\n",
       "      data: 2.0\n",
       "    }\n",
       "  }\n",
       "}"
      ]
     },
     "execution_count": 27,
     "metadata": {},
     "output_type": "execute_result"
    }
   ],
   "source": [
    "env_in = EnvStepInput()\n",
    "\n",
    "action = env_in.agent_actions['0'].data.add()\n",
    "action.data.extend(np.random.rand(5))\n",
    "\n",
    "action = env_in.agent_actions['1'].data.add()\n",
    "action.data.extend([np.random.randint(1,5) for _ in range(3)])\n",
    "\n",
    "env_in.command = EnvironmentCommand.STEP\n",
    "env_in"
   ]
  },
  {
   "cell_type": "markdown",
   "metadata": {},
   "source": [
    "# Server side"
   ]
  },
  {
   "cell_type": "code",
   "execution_count": 28,
   "metadata": {
    "ExecuteTime": {
     "end_time": "2020-01-08T07:08:09.404842Z",
     "start_time": "2020-01-08T07:08:09.398489Z"
    }
   },
   "outputs": [
    {
     "data": {
      "text/plain": [
       "next_observation {\n",
       "  data: 0.15968164801597595\n",
       "  data: 0.6550961136817932\n",
       "  data: 0.5685981512069702\n",
       "  data: 0.08132286369800568\n",
       "  data: 0.7154539823532104\n",
       "}\n",
       "reward: 0.5849597454071045\n",
       "done: true"
      ]
     },
     "execution_count": 28,
     "metadata": {},
     "output_type": "execute_result"
    }
   ],
   "source": [
    "a = AgentState()\n",
    "a.next_observation.data.extend(np.random.rand(5)) \n",
    "a.reward = np.random.rand(1)[0]\n",
    "a.done = bool(random.randint(0,2))\n",
    "a"
   ]
  },
  {
   "cell_type": "code",
   "execution_count": 29,
   "metadata": {
    "ExecuteTime": {
     "end_time": "2020-01-08T07:08:09.648541Z",
     "start_time": "2020-01-08T07:08:09.637794Z"
    }
   },
   "outputs": [
    {
     "data": {
      "text/plain": [
       "agent_states {\n",
       "  key: \"0\"\n",
       "  value {\n",
       "    data {\n",
       "      next_observation {\n",
       "        data: 0.0219777449965477\n",
       "        data: 0.14421477913856506\n",
       "        data: 0.25505006313323975\n",
       "        data: 0.9593082666397095\n",
       "        data: 0.5424119234085083\n",
       "      }\n",
       "      reward: 0.8846791386604309\n",
       "      done: true\n",
       "    }\n",
       "  }\n",
       "}\n",
       "agent_states {\n",
       "  key: \"1\"\n",
       "  value {\n",
       "    data {\n",
       "      next_observation {\n",
       "        data: 0.021517086774110794\n",
       "        data: 0.9671235084533691\n",
       "        data: 0.3702682554721832\n",
       "        data: 0.6292982697486877\n",
       "        data: 0.6549540758132935\n",
       "      }\n",
       "      reward: 0.11284598708152771\n",
       "      done: true\n",
       "    }\n",
       "  }\n",
       "}\n",
       "agent_metrics {\n",
       "  key: \"0\"\n",
       "  value {\n",
       "    data {\n",
       "      steps_per_episode: 1.0\n",
       "      step_count: 2.0\n",
       "      temp_done_counter: 3.0\n",
       "      done_count: 4.0\n",
       "      reward_per_step: 5.0\n",
       "      reward_per_episode: 6.0\n",
       "      reward_total: 7.0\n",
       "    }\n",
       "  }\n",
       "}"
      ]
     },
     "execution_count": 29,
     "metadata": {},
     "output_type": "execute_result"
    }
   ],
   "source": [
    "env_state = EnvStepOutput()\n",
    "\n",
    "a = env_state.agent_states['0'].data.add()\n",
    "a.next_observation.data.extend(np.random.rand(5))\n",
    "a.reward = np.random.rand(1)[0]\n",
    "a.done = bool(random.randint(0, 1))\n",
    "\n",
    "a = env_state.agent_states['1'].data.add()\n",
    "a.next_observation.data.extend(np.random.rand(5))\n",
    "a.reward = np.random.rand(1)[0]\n",
    "a.done = bool(random.randint(0, 1))\n",
    "\n",
    "m = env_state.agent_metrics['0'].data.add()\n",
    "m.steps_per_episode = 1\n",
    "m.step_count = 2\n",
    "m.temp_done_counter = 3\n",
    "m.done_count = 4\n",
    "m.reward_per_step = 5\n",
    "m.reward_per_episode = 6\n",
    "m.reward_total = 7\n",
    "env_state"
   ]
  },
  {
   "cell_type": "code",
   "execution_count": null,
   "metadata": {},
   "outputs": [],
   "source": []
  }
 ],
 "metadata": {
  "kernelspec": {
   "display_name": "Python 3",
   "language": "python",
   "name": "python3"
  },
  "language_info": {
   "codemirror_mode": {
    "name": "ipython",
    "version": 3
   },
   "file_extension": ".py",
   "mimetype": "text/x-python",
   "name": "python",
   "nbconvert_exporter": "python",
   "pygments_lexer": "ipython3",
   "version": "3.7.2"
  }
 },
 "nbformat": 4,
 "nbformat_minor": 2
}
