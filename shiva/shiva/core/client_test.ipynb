{
 "cells": [
  {
   "cell_type": "code",
   "execution_count": 40,
   "metadata": {
    "ExecuteTime": {
     "end_time": "2020-01-07T10:12:56.927642Z",
     "start_time": "2020-01-07T10:12:56.924158Z"
    }
   },
   "outputs": [],
   "source": [
    "import random\n",
    "import numpy as np\n",
    "import grpc\n",
    "\n",
    "from communication_objects.all_pb2 import (\n",
    "    ListOfInts, ListOfFloats,\n",
    "    EnvironmentCommand, \n",
    "    EnvStepInput,\n",
    "    AgentState, AgentMetrics, EnvStepOutput\n",
    ")\n",
    "import communication_objects.all_pb2_grpc"
   ]
  },
  {
   "cell_type": "code",
   "execution_count": 41,
   "metadata": {
    "ExecuteTime": {
     "end_time": "2020-01-07T10:12:57.215106Z",
     "start_time": "2020-01-07T10:12:57.208522Z"
    }
   },
   "outputs": [],
   "source": [
    "def run():\n",
    "    with grpc.insecure_channel('localhost:50051') as channel:\n",
    "        stub = communication_objects.all_pb2_grpc.EnvironmentStub(channel)\n",
    "        \n",
    "        env_in = EnvStepInput()\n",
    "\n",
    "        action = env_in.agent_actions['0'].data.add()\n",
    "        action.values_floats.data.extend(np.random.rand(5))\n",
    "\n",
    "        action = env_in.agent_actions['1'].data.add()\n",
    "        action.values_ints.data.extend([np.random.randint(1,5) for _ in range(3)])\n",
    "\n",
    "        env_in.command = EnvironmentCommand.STEP\n",
    "\n",
    "        env_state = stub.Step(env_in)\n",
    "        return env_state"
   ]
  },
  {
   "cell_type": "code",
   "execution_count": 44,
   "metadata": {
    "ExecuteTime": {
     "end_time": "2020-01-07T10:13:04.808103Z",
     "start_time": "2020-01-07T10:13:04.801668Z"
    }
   },
   "outputs": [
    {
     "data": {
      "text/plain": [
       "agent_states {\n",
       "  key: \"0\"\n",
       "  value {\n",
       "    data {\n",
       "      next_observation {\n",
       "        data: 0.31980186700820923\n",
       "        data: 0.3058376908302307\n",
       "        data: 0.21682040393352509\n",
       "        data: 0.8762670755386353\n",
       "        data: 0.9432609677314758\n",
       "      }\n",
       "      reward: 0.08085587620735168\n",
       "    }\n",
       "  }\n",
       "}\n",
       "agent_states {\n",
       "  key: \"1\"\n",
       "  value {\n",
       "    data {\n",
       "      next_observation {\n",
       "        data: 0.22986407577991486\n",
       "        data: 0.3545733094215393\n",
       "        data: 0.1839819848537445\n",
       "        data: 0.06244391202926636\n",
       "        data: 0.9003799557685852\n",
       "      }\n",
       "      reward: 0.7044233083724976\n",
       "    }\n",
       "  }\n",
       "}\n",
       "agent_metrics {\n",
       "  key: \"0\"\n",
       "  value {\n",
       "    data {\n",
       "      steps_per_episode: 1.0\n",
       "      step_count: 2.0\n",
       "      temp_done_counter: 3.0\n",
       "      done_count: 4.0\n",
       "      reward_per_step: 5.0\n",
       "      reward_per_episode: 6.0\n",
       "      reward_total: 7.0\n",
       "    }\n",
       "  }\n",
       "}"
      ]
     },
     "execution_count": 44,
     "metadata": {},
     "output_type": "execute_result"
    }
   ],
   "source": [
    "state = run()\n",
    "state"
   ]
  },
  {
   "cell_type": "code",
   "execution_count": null,
   "metadata": {},
   "outputs": [],
   "source": []
  },
  {
   "cell_type": "markdown",
   "metadata": {
    "ExecuteTime": {
     "end_time": "2020-01-07T10:05:21.752435Z",
     "start_time": "2020-01-07T10:05:21.747407Z"
    }
   },
   "source": [
    "# Client side"
   ]
  },
  {
   "cell_type": "code",
   "execution_count": 37,
   "metadata": {
    "ExecuteTime": {
     "end_time": "2020-01-07T10:11:22.589190Z",
     "start_time": "2020-01-07T10:11:22.582077Z"
    }
   },
   "outputs": [
    {
     "data": {
      "text/plain": [
       "agent_actions {\n",
       "  key: \"0\"\n",
       "  value {\n",
       "    data {\n",
       "      values_floats {\n",
       "        data: 0.3700660169124603\n",
       "        data: 0.09750878810882568\n",
       "        data: 0.3732461631298065\n",
       "        data: 0.10502585768699646\n",
       "        data: 0.9162991046905518\n",
       "      }\n",
       "    }\n",
       "  }\n",
       "}\n",
       "agent_actions {\n",
       "  key: \"1\"\n",
       "  value {\n",
       "    data {\n",
       "      values_ints {\n",
       "        data: 4\n",
       "        data: 3\n",
       "        data: 3\n",
       "      }\n",
       "    }\n",
       "  }\n",
       "}"
      ]
     },
     "execution_count": 37,
     "metadata": {},
     "output_type": "execute_result"
    }
   ],
   "source": [
    "env_in = EnvStepInput()\n",
    "\n",
    "action = env_in.agent_actions['0'].data.add()\n",
    "action.values_floats.data.extend(np.random.rand(5))\n",
    "\n",
    "action = env_in.agent_actions['1'].data.add()\n",
    "action.values_ints.data.extend([np.random.randint(1,5) for _ in range(3)])\n",
    "\n",
    "env_in.command = EnvironmentCommand.STEP\n",
    "env_in"
   ]
  },
  {
   "cell_type": "markdown",
   "metadata": {},
   "source": [
    "# Server side"
   ]
  },
  {
   "cell_type": "code",
   "execution_count": 38,
   "metadata": {
    "ExecuteTime": {
     "end_time": "2020-01-07T10:11:39.138071Z",
     "start_time": "2020-01-07T10:11:39.132151Z"
    }
   },
   "outputs": [
    {
     "data": {
      "text/plain": [
       "next_observation {\n",
       "  data: 0.5468494892120361\n",
       "  data: 0.01567339338362217\n",
       "  data: 0.9128026366233826\n",
       "  data: 0.9781962037086487\n",
       "  data: 0.5143204927444458\n",
       "}\n",
       "reward: 0.1130015030503273\n",
       "done: true"
      ]
     },
     "execution_count": 38,
     "metadata": {},
     "output_type": "execute_result"
    }
   ],
   "source": [
    "a = AgentState()\n",
    "a.next_observation.data.extend(np.random.rand(5)) \n",
    "a.reward = np.random.rand(1)[0]\n",
    "a.done = bool(random.randint(0,2))\n",
    "a"
   ]
  },
  {
   "cell_type": "code",
   "execution_count": 39,
   "metadata": {
    "ExecuteTime": {
     "end_time": "2020-01-07T10:11:39.365177Z",
     "start_time": "2020-01-07T10:11:39.354677Z"
    }
   },
   "outputs": [
    {
     "data": {
      "text/plain": [
       "agent_states {\n",
       "  key: \"0\"\n",
       "  value {\n",
       "    data {\n",
       "      next_observation {\n",
       "        data: 0.28972455859184265\n",
       "        data: 0.5487870573997498\n",
       "        data: 0.6819930672645569\n",
       "        data: 0.8341315984725952\n",
       "        data: 0.4603029191493988\n",
       "      }\n",
       "      reward: 0.4974982440471649\n",
       "    }\n",
       "  }\n",
       "}\n",
       "agent_states {\n",
       "  key: \"1\"\n",
       "  value {\n",
       "    data {\n",
       "      next_observation {\n",
       "        data: 0.5511258244514465\n",
       "        data: 0.7156957983970642\n",
       "        data: 0.36487412452697754\n",
       "        data: 0.7045494914054871\n",
       "        data: 0.31693553924560547\n",
       "      }\n",
       "      reward: 0.6016888618469238\n",
       "      done: true\n",
       "    }\n",
       "  }\n",
       "}\n",
       "agent_metrics {\n",
       "  key: \"0\"\n",
       "  value {\n",
       "    data {\n",
       "      steps_per_episode: 1.0\n",
       "      step_count: 2.0\n",
       "      temp_done_counter: 3.0\n",
       "      done_count: 4.0\n",
       "      reward_per_step: 5.0\n",
       "      reward_per_episode: 6.0\n",
       "      reward_total: 7.0\n",
       "    }\n",
       "  }\n",
       "}"
      ]
     },
     "execution_count": 39,
     "metadata": {},
     "output_type": "execute_result"
    }
   ],
   "source": [
    "env_state = EnvStepOutput()\n",
    "\n",
    "a = env_state.agent_states['0'].data.add()\n",
    "a.next_observation.data.extend(np.random.rand(5))\n",
    "a.reward = np.random.rand(1)[0]\n",
    "a.done = bool(random.randint(0, 1))\n",
    "\n",
    "a = env_state.agent_states['1'].data.add()\n",
    "a.next_observation.data.extend(np.random.rand(5))\n",
    "a.reward = np.random.rand(1)[0]\n",
    "a.done = bool(random.randint(0, 1))\n",
    "\n",
    "m = env_state.agent_metrics['0'].data.add()\n",
    "m.steps_per_episode = 1\n",
    "m.step_count = 2\n",
    "m.temp_done_counter = 3\n",
    "m.done_count = 4\n",
    "m.reward_per_step = 5\n",
    "m.reward_per_episode = 6\n",
    "m.reward_total = 7\n",
    "env_state"
   ]
  },
  {
   "cell_type": "code",
   "execution_count": null,
   "metadata": {},
   "outputs": [],
   "source": []
  }
 ],
 "metadata": {
  "kernelspec": {
   "display_name": "Python 3",
   "language": "python",
   "name": "python3"
  },
  "language_info": {
   "codemirror_mode": {
    "name": "ipython",
    "version": 3
   },
   "file_extension": ".py",
   "mimetype": "text/x-python",
   "name": "python",
   "nbconvert_exporter": "python",
   "pygments_lexer": "ipython3",
   "version": "3.7.2"
  }
 },
 "nbformat": 4,
 "nbformat_minor": 2
}
