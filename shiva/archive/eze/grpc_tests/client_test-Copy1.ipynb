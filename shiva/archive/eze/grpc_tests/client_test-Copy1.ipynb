{
 "cells": [
  {
   "cell_type": "code",
   "execution_count": 3,
   "metadata": {
    "ExecuteTime": {
     "end_time": "2020-04-18T07:58:40.357686Z",
     "start_time": "2020-04-18T07:58:40.346522Z"
    }
   },
   "outputs": [
    {
     "data": {
      "text/plain": [
       "'/Users/cabesd/Projects/NFLUX/Control-Tasks/shiva'"
      ]
     },
     "execution_count": 3,
     "metadata": {},
     "output_type": "execute_result"
    }
   ],
   "source": [
    "str(Path(os.path.abspath('')).absolute().parent.parent.parent)"
   ]
  },
  {
   "cell_type": "code",
   "execution_count": 1,
   "metadata": {
    "ExecuteTime": {
     "end_time": "2020-04-18T07:58:26.396053Z",
     "start_time": "2020-04-18T07:58:26.392044Z"
    }
   },
   "outputs": [],
   "source": [
    "import sys, os\n",
    "from pathlib import Path\n",
    "sys.path.append(str(Path(os.path.abspath('')).absolute().parent.parent.parent))"
   ]
  },
  {
   "cell_type": "code",
   "execution_count": 2,
   "metadata": {
    "ExecuteTime": {
     "end_time": "2020-04-18T07:58:28.531644Z",
     "start_time": "2020-04-18T07:58:27.953618Z"
    }
   },
   "outputs": [
    {
     "ename": "ModuleNotFoundError",
     "evalue": "No module named 'shiva.core.communication_objects'",
     "output_type": "error",
     "traceback": [
      "\u001b[0;31m---------------------------------------------------------------------------\u001b[0m",
      "\u001b[0;31mModuleNotFoundError\u001b[0m                       Traceback (most recent call last)",
      "\u001b[0;32m<ipython-input-2-324ab857e68f>\u001b[0m in \u001b[0;36m<module>\u001b[0;34m\u001b[0m\n\u001b[1;32m      3\u001b[0m \u001b[0;32mimport\u001b[0m \u001b[0mgrpc\u001b[0m\u001b[0;34m\u001b[0m\u001b[0;34m\u001b[0m\u001b[0m\n\u001b[1;32m      4\u001b[0m \u001b[0;34m\u001b[0m\u001b[0m\n\u001b[0;32m----> 5\u001b[0;31m \u001b[0;32mfrom\u001b[0m \u001b[0mshiva\u001b[0m\u001b[0;34m.\u001b[0m\u001b[0mcore\u001b[0m\u001b[0;34m.\u001b[0m\u001b[0mcommunication_objects\u001b[0m\u001b[0;34m.\u001b[0m\u001b[0menv_command_pb2\u001b[0m \u001b[0;32mimport\u001b[0m \u001b[0mEnvironmentCommand\u001b[0m\u001b[0;34m\u001b[0m\u001b[0;34m\u001b[0m\u001b[0m\n\u001b[0m\u001b[1;32m      6\u001b[0m \u001b[0;32mfrom\u001b[0m \u001b[0mshiva\u001b[0m\u001b[0;34m.\u001b[0m\u001b[0mcore\u001b[0m\u001b[0;34m.\u001b[0m\u001b[0mcommunication_objects\u001b[0m\u001b[0;34m.\u001b[0m\u001b[0menv_step_pb2\u001b[0m \u001b[0;32mimport\u001b[0m \u001b[0;34m(\u001b[0m \u001b[0mEnvStepInput\u001b[0m\u001b[0;34m,\u001b[0m \u001b[0mEnvStepOutput\u001b[0m \u001b[0;34m)\u001b[0m\u001b[0;34m\u001b[0m\u001b[0;34m\u001b[0m\u001b[0m\n\u001b[1;32m      7\u001b[0m \u001b[0;32mfrom\u001b[0m \u001b[0mshiva\u001b[0m\u001b[0;34m.\u001b[0m\u001b[0mcore\u001b[0m\u001b[0;34m.\u001b[0m\u001b[0mcommunication_objects\u001b[0m\u001b[0;34m.\u001b[0m\u001b[0menv_specs_pb2\u001b[0m \u001b[0;32mimport\u001b[0m \u001b[0mEnvironmentSpecs\u001b[0m\u001b[0;34m\u001b[0m\u001b[0;34m\u001b[0m\u001b[0m\n",
      "\u001b[0;31mModuleNotFoundError\u001b[0m: No module named 'shiva.core.communication_objects'"
     ]
    }
   ],
   "source": [
    "import random\n",
    "import numpy as np\n",
    "import grpc\n",
    "\n",
    "from shiva.core.communication_objects.env_command_pb2 import EnvironmentCommand\n",
    "from shiva.core.communication_objects.env_step_pb2 import ( EnvStepInput, EnvStepOutput )\n",
    "from shiva.core.communication_objects.env_specs_pb2 import EnvironmentSpecs\n",
    "from shiva.core.communication_objects.env_metrics_pb2 import AgentMetrics\n",
    "from shiva.core.communication_objects.agent_state_pb2 import AgentState\n",
    "from shiva.core.communication_objects.service_env_pb2_grpc import EnvironmentStub, EnvironmentServicer, add_EnvironmentServicer_to_server"
   ]
  },
  {
   "cell_type": "code",
   "execution_count": 3,
   "metadata": {
    "ExecuteTime": {
     "end_time": "2020-01-08T23:32:09.016970Z",
     "start_time": "2020-01-08T23:32:09.011680Z"
    }
   },
   "outputs": [],
   "source": [
    "def run():\n",
    "    channel = grpc.insecure_channel('localhost:50051')\n",
    "    stub = EnvironmentStub(channel)\n",
    "\n",
    "    env_in = EnvStepInput()\n",
    "\n",
    "    action = env_in.agent_actions['0'].data.add()\n",
    "    action.data.extend(np.random.rand(5))\n",
    "\n",
    "    action = env_in.agent_actions['1'].data.add()\n",
    "    action.data.extend([np.random.randint(1,5) for _ in range(3)])\n",
    "\n",
    "    env_in.command = EnvironmentCommand.STEP\n",
    "\n",
    "    env_state = stub.Step(env_in)\n",
    "    \n",
    "    return env_state, channel, stub"
   ]
  },
  {
   "cell_type": "code",
   "execution_count": 17,
   "metadata": {
    "ExecuteTime": {
     "end_time": "2020-01-08T23:33:06.247404Z",
     "start_time": "2020-01-08T23:33:06.241789Z"
    }
   },
   "outputs": [
    {
     "data": {
      "text/plain": [
       "(agent_states {\n",
       "   key: \"0\"\n",
       "   value {\n",
       "     data {\n",
       "       next_observation {\n",
       "         data: 0.6894981861114502\n",
       "         data: 0.383246511220932\n",
       "         data: 0.2759014368057251\n",
       "         data: 0.9217872023582458\n",
       "         data: 0.8580998778343201\n",
       "       }\n",
       "       reward: 0.6816263198852539\n",
       "     }\n",
       "   }\n",
       " }\n",
       " agent_states {\n",
       "   key: \"1\"\n",
       "   value {\n",
       "     data {\n",
       "       next_observation {\n",
       "         data: 0.1677057296037674\n",
       "         data: 0.3641129732131958\n",
       "         data: 0.805634617805481\n",
       "         data: 0.26316797733306885\n",
       "         data: 0.16621264815330505\n",
       "       }\n",
       "       reward: 0.27741938829421997\n",
       "       done: true\n",
       "     }\n",
       "   }\n",
       " }\n",
       " agent_metrics {\n",
       "   key: \"0\"\n",
       "   value {\n",
       "     data {\n",
       "       steps_per_episode: 1.0\n",
       "       step_count: 2.0\n",
       "       temp_done_counter: 3.0\n",
       "       done_count: 4.0\n",
       "       reward_per_step: 5.0\n",
       "       reward_per_episode: 6.0\n",
       "       reward_total: 7.0\n",
       "     }\n",
       "   }\n",
       " },\n",
       " <grpc._channel.Channel at 0x119f60b38>,\n",
       " <shiva.core.communication_objects.service_env_pb2_grpc.EnvironmentStub at 0x119f60f28>)"
      ]
     },
     "execution_count": 17,
     "metadata": {},
     "output_type": "execute_result"
    }
   ],
   "source": [
    "run()"
   ]
  },
  {
   "cell_type": "code",
   "execution_count": 4,
   "metadata": {
    "ExecuteTime": {
     "end_time": "2020-01-08T23:32:11.683667Z",
     "start_time": "2020-01-08T23:32:11.661570Z"
    }
   },
   "outputs": [],
   "source": [
    "s = []\n",
    "for _ in range(5):\n",
    "    state, channel, stub = run()\n",
    "    s.append(state)"
   ]
  },
  {
   "cell_type": "code",
   "execution_count": 6,
   "metadata": {
    "ExecuteTime": {
     "end_time": "2020-01-08T23:32:23.883260Z",
     "start_time": "2020-01-08T23:32:23.878210Z"
    }
   },
   "outputs": [
    {
     "data": {
      "text/plain": [
       "[agent_states {\n",
       "   key: \"0\"\n",
       "   value {\n",
       "     data {\n",
       "       next_observation {\n",
       "         data: 0.8854866027832031\n",
       "         data: 0.3215821087360382\n",
       "         data: 0.2256254106760025\n",
       "         data: 0.35417839884757996\n",
       "         data: 0.5626516938209534\n",
       "       }\n",
       "       reward: 0.7766212224960327\n",
       "     }\n",
       "   }\n",
       " }\n",
       " agent_states {\n",
       "   key: \"1\"\n",
       "   value {\n",
       "     data {\n",
       "       next_observation {\n",
       "         data: 0.1212611272931099\n",
       "         data: 0.8806151151657104\n",
       "         data: 0.7047242522239685\n",
       "         data: 0.9671302437782288\n",
       "         data: 0.6195788383483887\n",
       "       }\n",
       "       reward: 0.8038033843040466\n",
       "       done: true\n",
       "     }\n",
       "   }\n",
       " }\n",
       " agent_metrics {\n",
       "   key: \"0\"\n",
       "   value {\n",
       "     data {\n",
       "       steps_per_episode: 1.0\n",
       "       step_count: 2.0\n",
       "       temp_done_counter: 3.0\n",
       "       done_count: 4.0\n",
       "       reward_per_step: 5.0\n",
       "       reward_per_episode: 6.0\n",
       "       reward_total: 7.0\n",
       "     }\n",
       "   }\n",
       " }, agent_states {\n",
       "   key: \"0\"\n",
       "   value {\n",
       "     data {\n",
       "       next_observation {\n",
       "         data: 0.03614870831370354\n",
       "         data: 0.16820356249809265\n",
       "         data: 0.9386410713195801\n",
       "         data: 0.9410324096679688\n",
       "         data: 0.7437371015548706\n",
       "       }\n",
       "       reward: 0.9293120503425598\n",
       "     }\n",
       "   }\n",
       " }\n",
       " agent_states {\n",
       "   key: \"1\"\n",
       "   value {\n",
       "     data {\n",
       "       next_observation {\n",
       "         data: 0.7210873961448669\n",
       "         data: 0.9984436631202698\n",
       "         data: 0.797455906867981\n",
       "         data: 0.0837264284491539\n",
       "         data: 0.3958469033241272\n",
       "       }\n",
       "       reward: 0.23846125602722168\n",
       "     }\n",
       "   }\n",
       " }\n",
       " agent_metrics {\n",
       "   key: \"0\"\n",
       "   value {\n",
       "     data {\n",
       "       steps_per_episode: 1.0\n",
       "       step_count: 2.0\n",
       "       temp_done_counter: 3.0\n",
       "       done_count: 4.0\n",
       "       reward_per_step: 5.0\n",
       "       reward_per_episode: 6.0\n",
       "       reward_total: 7.0\n",
       "     }\n",
       "   }\n",
       " }, agent_states {\n",
       "   key: \"0\"\n",
       "   value {\n",
       "     data {\n",
       "       next_observation {\n",
       "         data: 0.6270632147789001\n",
       "         data: 0.384796142578125\n",
       "         data: 0.06985048204660416\n",
       "         data: 0.5578843951225281\n",
       "         data: 0.9790568947792053\n",
       "       }\n",
       "       reward: 0.3787655830383301\n",
       "       done: true\n",
       "     }\n",
       "   }\n",
       " }\n",
       " agent_states {\n",
       "   key: \"1\"\n",
       "   value {\n",
       "     data {\n",
       "       next_observation {\n",
       "         data: 0.028097957372665405\n",
       "         data: 0.30278947949409485\n",
       "         data: 0.26204782724380493\n",
       "         data: 0.7144713401794434\n",
       "         data: 0.7970908284187317\n",
       "       }\n",
       "       reward: 0.34762293100357056\n",
       "       done: true\n",
       "     }\n",
       "   }\n",
       " }\n",
       " agent_metrics {\n",
       "   key: \"0\"\n",
       "   value {\n",
       "     data {\n",
       "       steps_per_episode: 1.0\n",
       "       step_count: 2.0\n",
       "       temp_done_counter: 3.0\n",
       "       done_count: 4.0\n",
       "       reward_per_step: 5.0\n",
       "       reward_per_episode: 6.0\n",
       "       reward_total: 7.0\n",
       "     }\n",
       "   }\n",
       " }, agent_states {\n",
       "   key: \"0\"\n",
       "   value {\n",
       "     data {\n",
       "       next_observation {\n",
       "         data: 0.2631933093070984\n",
       "         data: 0.23573200404644012\n",
       "         data: 0.05838550254702568\n",
       "         data: 0.5770925283432007\n",
       "         data: 0.6854163408279419\n",
       "       }\n",
       "       reward: 0.4136444330215454\n",
       "       done: true\n",
       "     }\n",
       "   }\n",
       " }\n",
       " agent_states {\n",
       "   key: \"1\"\n",
       "   value {\n",
       "     data {\n",
       "       next_observation {\n",
       "         data: 0.2199275642633438\n",
       "         data: 0.48927417397499084\n",
       "         data: 0.8027277588844299\n",
       "         data: 0.026829933747649193\n",
       "         data: 0.7154508829116821\n",
       "       }\n",
       "       reward: 0.4744534492492676\n",
       "     }\n",
       "   }\n",
       " }\n",
       " agent_metrics {\n",
       "   key: \"0\"\n",
       "   value {\n",
       "     data {\n",
       "       steps_per_episode: 1.0\n",
       "       step_count: 2.0\n",
       "       temp_done_counter: 3.0\n",
       "       done_count: 4.0\n",
       "       reward_per_step: 5.0\n",
       "       reward_per_episode: 6.0\n",
       "       reward_total: 7.0\n",
       "     }\n",
       "   }\n",
       " }, agent_states {\n",
       "   key: \"0\"\n",
       "   value {\n",
       "     data {\n",
       "       next_observation {\n",
       "         data: 0.024597566574811935\n",
       "         data: 0.21157988905906677\n",
       "         data: 0.061621472239494324\n",
       "         data: 0.7209543585777283\n",
       "         data: 0.040756307542324066\n",
       "       }\n",
       "       reward: 0.8715871572494507\n",
       "       done: true\n",
       "     }\n",
       "   }\n",
       " }\n",
       " agent_states {\n",
       "   key: \"1\"\n",
       "   value {\n",
       "     data {\n",
       "       next_observation {\n",
       "         data: 0.611327588558197\n",
       "         data: 0.06132396683096886\n",
       "         data: 0.46072861552238464\n",
       "         data: 0.08896481245756149\n",
       "         data: 0.11104259639978409\n",
       "       }\n",
       "       reward: 0.342986136674881\n",
       "       done: true\n",
       "     }\n",
       "   }\n",
       " }\n",
       " agent_metrics {\n",
       "   key: \"0\"\n",
       "   value {\n",
       "     data {\n",
       "       steps_per_episode: 1.0\n",
       "       step_count: 2.0\n",
       "       temp_done_counter: 3.0\n",
       "       done_count: 4.0\n",
       "       reward_per_step: 5.0\n",
       "       reward_per_episode: 6.0\n",
       "       reward_total: 7.0\n",
       "     }\n",
       "   }\n",
       " }]"
      ]
     },
     "execution_count": 6,
     "metadata": {},
     "output_type": "execute_result"
    }
   ],
   "source": [
    "s"
   ]
  },
  {
   "cell_type": "markdown",
   "metadata": {
    "ExecuteTime": {
     "end_time": "2020-01-07T10:05:21.752435Z",
     "start_time": "2020-01-07T10:05:21.747407Z"
    }
   },
   "source": [
    "# Client side"
   ]
  },
  {
   "cell_type": "code",
   "execution_count": 87,
   "metadata": {
    "ExecuteTime": {
     "end_time": "2020-01-08T09:01:07.425828Z",
     "start_time": "2020-01-08T09:01:07.418004Z"
    }
   },
   "outputs": [
    {
     "data": {
      "text/plain": [
       "agent_actions {\n",
       "  key: \"0\"\n",
       "  value {\n",
       "    data {\n",
       "      data: 0.6070301532745361\n",
       "      data: 0.2676883637905121\n",
       "      data: 0.9742514491081238\n",
       "      data: 0.7766292095184326\n",
       "      data: 0.10990528017282486\n",
       "    }\n",
       "    data {\n",
       "      data: 2.0\n",
       "      data: 3.0\n",
       "      data: 2.0\n",
       "      data: 4.0\n",
       "      data: 3.0\n",
       "    }\n",
       "  }\n",
       "}"
      ]
     },
     "execution_count": 87,
     "metadata": {},
     "output_type": "execute_result"
    }
   ],
   "source": [
    "env_in = EnvStepInput()\n",
    "\n",
    "action = env_in.agent_actions['0'].data.add()\n",
    "action.data.extend(np.random.rand(5))\n",
    "\n",
    "action = env_in.agent_actions['0'].data.add()\n",
    "action.data.extend([np.random.randint(1,5) for _ in range(5)])\n",
    "\n",
    "env_in.command = EnvironmentCommand.STEP\n",
    "env_in"
   ]
  },
  {
   "cell_type": "code",
   "execution_count": 88,
   "metadata": {
    "ExecuteTime": {
     "end_time": "2020-01-08T09:01:07.743114Z",
     "start_time": "2020-01-08T09:01:07.738457Z"
    }
   },
   "outputs": [
    {
     "data": {
      "text/plain": [
       "['0']"
      ]
     },
     "execution_count": 88,
     "metadata": {},
     "output_type": "execute_result"
    }
   ],
   "source": [
    "v = list(env_in.agent_actions.keys())\n",
    "v"
   ]
  },
  {
   "cell_type": "code",
   "execution_count": 91,
   "metadata": {
    "ExecuteTime": {
     "end_time": "2020-01-08T09:02:03.156700Z",
     "start_time": "2020-01-08T09:02:03.151552Z"
    }
   },
   "outputs": [
    {
     "data": {
      "text/plain": [
       "[data: 0.6070301532745361\n",
       "data: 0.2676883637905121\n",
       "data: 0.9742514491081238\n",
       "data: 0.7766292095184326\n",
       "data: 0.10990528017282486\n",
       ", data: 2.0\n",
       "data: 3.0\n",
       "data: 2.0\n",
       "data: 4.0\n",
       "data: 3.0\n",
       "]"
      ]
     },
     "execution_count": 91,
     "metadata": {},
     "output_type": "execute_result"
    }
   ],
   "source": [
    "env_in.agent_actions[v[0]].data"
   ]
  },
  {
   "cell_type": "code",
   "execution_count": 95,
   "metadata": {
    "ExecuteTime": {
     "end_time": "2020-01-08T09:09:26.569817Z",
     "start_time": "2020-01-08T09:09:26.566506Z"
    }
   },
   "outputs": [],
   "source": [
    "agent_action = env_in.agent_actions[v[0]].data"
   ]
  },
  {
   "cell_type": "code",
   "execution_count": 98,
   "metadata": {
    "ExecuteTime": {
     "end_time": "2020-01-08T09:09:31.331715Z",
     "start_time": "2020-01-08T09:09:31.326902Z"
    }
   },
   "outputs": [
    {
     "data": {
      "text/plain": [
       "2"
      ]
     },
     "execution_count": 98,
     "metadata": {},
     "output_type": "execute_result"
    }
   ],
   "source": [
    "len(agent_action)"
   ]
  },
  {
   "cell_type": "code",
   "execution_count": 96,
   "metadata": {
    "ExecuteTime": {
     "end_time": "2020-01-08T09:09:27.018698Z",
     "start_time": "2020-01-08T09:09:27.013826Z"
    }
   },
   "outputs": [
    {
     "data": {
      "text/plain": [
       "[0.6070301532745361, 0.2676883637905121, 0.9742514491081238, 0.7766292095184326, 0.10990528017282486]"
      ]
     },
     "execution_count": 96,
     "metadata": {},
     "output_type": "execute_result"
    }
   ],
   "source": [
    "agent_action[0].data"
   ]
  },
  {
   "cell_type": "code",
   "execution_count": 97,
   "metadata": {
    "ExecuteTime": {
     "end_time": "2020-01-08T09:09:27.475534Z",
     "start_time": "2020-01-08T09:09:27.471579Z"
    }
   },
   "outputs": [
    {
     "data": {
      "text/plain": [
       "[2.0, 3.0, 2.0, 4.0, 3.0]"
      ]
     },
     "execution_count": 97,
     "metadata": {},
     "output_type": "execute_result"
    }
   ],
   "source": [
    "agent_action[1].data"
   ]
  },
  {
   "cell_type": "code",
   "execution_count": 104,
   "metadata": {
    "ExecuteTime": {
     "end_time": "2020-01-08T09:12:06.101188Z",
     "start_time": "2020-01-08T09:12:06.098265Z"
    }
   },
   "outputs": [],
   "source": [
    "all_agents_instances_actions = []"
   ]
  },
  {
   "cell_type": "code",
   "execution_count": 106,
   "metadata": {
    "ExecuteTime": {
     "end_time": "2020-01-08T09:12:12.011036Z",
     "start_time": "2020-01-08T09:12:12.007766Z"
    }
   },
   "outputs": [],
   "source": [
    "all_agents_instances_actions.append([ agent_action[i].data for i in range(len(agent_action)) ])"
   ]
  },
  {
   "cell_type": "code",
   "execution_count": 108,
   "metadata": {
    "ExecuteTime": {
     "end_time": "2020-01-08T09:12:17.293583Z",
     "start_time": "2020-01-08T09:12:17.288710Z"
    }
   },
   "outputs": [
    {
     "data": {
      "text/plain": [
       "[[0.6070301532745361, 0.2676883637905121, 0.9742514491081238, 0.7766292095184326, 0.10990528017282486],\n",
       " [2.0, 3.0, 2.0, 4.0, 3.0]]"
      ]
     },
     "execution_count": 108,
     "metadata": {},
     "output_type": "execute_result"
    }
   ],
   "source": [
    "all_agents_instances_actions[0]"
   ]
  },
  {
   "cell_type": "markdown",
   "metadata": {},
   "source": [
    "# Server side"
   ]
  },
  {
   "cell_type": "code",
   "execution_count": null,
   "metadata": {},
   "outputs": [],
   "source": []
  },
  {
   "cell_type": "code",
   "execution_count": 28,
   "metadata": {
    "ExecuteTime": {
     "end_time": "2020-01-08T07:08:09.404842Z",
     "start_time": "2020-01-08T07:08:09.398489Z"
    }
   },
   "outputs": [
    {
     "data": {
      "text/plain": [
       "next_observation {\n",
       "  data: 0.15968164801597595\n",
       "  data: 0.6550961136817932\n",
       "  data: 0.5685981512069702\n",
       "  data: 0.08132286369800568\n",
       "  data: 0.7154539823532104\n",
       "}\n",
       "reward: 0.5849597454071045\n",
       "done: true"
      ]
     },
     "execution_count": 28,
     "metadata": {},
     "output_type": "execute_result"
    }
   ],
   "source": [
    "a = AgentState()\n",
    "a.next_observation.data.extend(np.random.rand(5)) \n",
    "a.reward = np.random.rand(1)[0]\n",
    "a.done = bool(random.randint(0,2))\n",
    "a"
   ]
  },
  {
   "cell_type": "code",
   "execution_count": 116,
   "metadata": {
    "ExecuteTime": {
     "end_time": "2020-01-08T09:53:29.293273Z",
     "start_time": "2020-01-08T09:53:29.281910Z"
    }
   },
   "outputs": [
    {
     "data": {
      "text/plain": [
       "agent_states {\n",
       "  key: \"0\"\n",
       "  value {\n",
       "    data {\n",
       "      next_observation {\n",
       "        data: 0.16735170781612396\n",
       "        data: 0.3676755130290985\n",
       "        data: 0.596005916595459\n",
       "        data: 0.856003999710083\n",
       "        data: 0.21721677482128143\n",
       "      }\n",
       "      reward: 0.8632524609565735\n",
       "    }\n",
       "  }\n",
       "}\n",
       "agent_states {\n",
       "  key: \"1\"\n",
       "  value {\n",
       "    data {\n",
       "      next_observation {\n",
       "        data: 0.6031678318977356\n",
       "        data: 0.3604581952095032\n",
       "        data: 0.763153612613678\n",
       "        data: 0.2960234582424164\n",
       "        data: 0.334116667509079\n",
       "      }\n",
       "      reward: 0.7786300778388977\n",
       "      done: true\n",
       "    }\n",
       "  }\n",
       "}\n",
       "agent_metrics {\n",
       "  key: \"0\"\n",
       "  value {\n",
       "    data {\n",
       "      steps_per_episode: 1.0\n",
       "      step_count: 2.0\n",
       "      temp_done_counter: 3.0\n",
       "      done_count: 4.0\n",
       "      reward_per_step: 5.0\n",
       "      reward_per_episode: 6.0\n",
       "      reward_total: 7.0\n",
       "    }\n",
       "  }\n",
       "}"
      ]
     },
     "execution_count": 116,
     "metadata": {},
     "output_type": "execute_result"
    }
   ],
   "source": [
    "env_state = EnvStepOutput()\n",
    "\n",
    "a = env_state.agent_states['0'].data.add()\n",
    "a.next_observation.data.extend(np.random.rand(5))\n",
    "a.reward = np.random.rand(1)[0]\n",
    "a.done = bool(random.randint(0, 1))\n",
    "\n",
    "a = env_state.agent_states['1'].data.add()\n",
    "a.next_observation.data.extend(np.random.rand(5))\n",
    "a.reward = np.random.rand(1)[0]\n",
    "a.done = bool(random.randint(0, 1))\n",
    "\n",
    "m = env_state.agent_metrics['0'].data.add()\n",
    "m.steps_per_episode = 1\n",
    "m.step_count = 2\n",
    "m.temp_done_counter = 3\n",
    "m.done_count = 4\n",
    "m.reward_per_step = 5\n",
    "m.reward_per_episode = 6\n",
    "m.reward_total = 7\n",
    "env_state"
   ]
  },
  {
   "cell_type": "code",
   "execution_count": null,
   "metadata": {},
   "outputs": [],
   "source": []
  },
  {
   "cell_type": "code",
   "execution_count": null,
   "metadata": {},
   "outputs": [],
   "source": []
  },
  {
   "cell_type": "code",
   "execution_count": 121,
   "metadata": {
    "ExecuteTime": {
     "end_time": "2020-01-08T09:54:17.021043Z",
     "start_time": "2020-01-08T09:54:17.017309Z"
    }
   },
   "outputs": [],
   "source": [
    "env_specs = EnvironmentSpecs()\n",
    "env_specs.observation_space = 1\n",
    "env_specs.action_space = 2\n",
    "env_specs.num_instances = 3\n",
    "env_specs.num_agents_per_instance = 4"
   ]
  },
  {
   "cell_type": "code",
   "execution_count": 142,
   "metadata": {
    "ExecuteTime": {
     "end_time": "2020-01-08T09:56:53.567842Z",
     "start_time": "2020-01-08T09:56:53.563357Z"
    }
   },
   "outputs": [
    {
     "data": {
      "text/plain": [
       "b'\\x08\\x01\\x10\\x02\\x18\\x03 \\x04'"
      ]
     },
     "execution_count": 142,
     "metadata": {},
     "output_type": "execute_result"
    }
   ],
   "source": [
    "env_specs.SerializeToString()"
   ]
  },
  {
   "cell_type": "code",
   "execution_count": 135,
   "metadata": {
    "ExecuteTime": {
     "end_time": "2020-01-08T09:56:23.719662Z",
     "start_time": "2020-01-08T09:56:23.716447Z"
    }
   },
   "outputs": [],
   "source": [
    "buf = env_specs.ListFields()[0]"
   ]
  },
  {
   "cell_type": "code",
   "execution_count": 140,
   "metadata": {
    "ExecuteTime": {
     "end_time": "2020-01-08T09:56:40.935881Z",
     "start_time": "2020-01-08T09:56:40.931407Z"
    }
   },
   "outputs": [
    {
     "data": {
      "text/plain": [
       "(<google.protobuf.pyext._message.FieldDescriptor at 0x118c86c50>, 1)"
      ]
     },
     "execution_count": 140,
     "metadata": {},
     "output_type": "execute_result"
    }
   ],
   "source": [
    "buf"
   ]
  },
  {
   "cell_type": "code",
   "execution_count": 125,
   "metadata": {
    "ExecuteTime": {
     "end_time": "2020-01-08T09:54:38.119785Z",
     "start_time": "2020-01-08T09:54:38.111170Z"
    }
   },
   "outputs": [
    {
     "ename": "TypeError",
     "evalue": "'EnvironmentSpecs' object is not iterable",
     "output_type": "error",
     "traceback": [
      "\u001b[0;31m---------------------------------------------------------------------------\u001b[0m",
      "\u001b[0;31mTypeError\u001b[0m                                 Traceback (most recent call last)",
      "\u001b[0;32m<ipython-input-125-1bd2b9495af1>\u001b[0m in \u001b[0;36m<module>\u001b[0;34m\u001b[0m\n\u001b[0;32m----> 1\u001b[0;31m \u001b[0;32mfor\u001b[0m \u001b[0mk\u001b[0m\u001b[0;34m,\u001b[0m \u001b[0mv\u001b[0m \u001b[0;32min\u001b[0m \u001b[0mdict\u001b[0m\u001b[0;34m(\u001b[0m\u001b[0menv_specs\u001b[0m\u001b[0;34m)\u001b[0m\u001b[0;34m:\u001b[0m\u001b[0;34m\u001b[0m\u001b[0;34m\u001b[0m\u001b[0m\n\u001b[0m\u001b[1;32m      2\u001b[0m     \u001b[0mprint\u001b[0m\u001b[0;34m(\u001b[0m\u001b[0mk\u001b[0m\u001b[0;34m,\u001b[0m \u001b[0mv\u001b[0m\u001b[0;34m)\u001b[0m\u001b[0;34m\u001b[0m\u001b[0;34m\u001b[0m\u001b[0m\n",
      "\u001b[0;31mTypeError\u001b[0m: 'EnvironmentSpecs' object is not iterable"
     ]
    }
   ],
   "source": [
    "for k, v in dict(env_specs):\n",
    "    print(k, v)"
   ]
  },
  {
   "cell_type": "code",
   "execution_count": 143,
   "metadata": {
    "ExecuteTime": {
     "end_time": "2020-01-08T09:58:29.547498Z",
     "start_time": "2020-01-08T09:58:29.544625Z"
    }
   },
   "outputs": [],
   "source": [
    "a = {}"
   ]
  },
  {
   "cell_type": "code",
   "execution_count": 144,
   "metadata": {
    "ExecuteTime": {
     "end_time": "2020-01-08T09:58:31.252095Z",
     "start_time": "2020-01-08T09:58:31.247454Z"
    }
   },
   "outputs": [
    {
     "data": {
      "text/plain": [
       "dict_items([])"
      ]
     },
     "execution_count": 144,
     "metadata": {},
     "output_type": "execute_result"
    }
   ],
   "source": [
    "a.items()"
   ]
  },
  {
   "cell_type": "code",
   "execution_count": null,
   "metadata": {},
   "outputs": [],
   "source": []
  }
 ],
 "metadata": {
  "kernelspec": {
   "display_name": "Python 3",
   "language": "python",
   "name": "python3"
  },
  "language_info": {
   "codemirror_mode": {
    "name": "ipython",
    "version": 3
   },
   "file_extension": ".py",
   "mimetype": "text/x-python",
   "name": "python",
   "nbconvert_exporter": "python",
   "pygments_lexer": "ipython3",
   "version": "3.7.2"
  }
 },
 "nbformat": 4,
 "nbformat_minor": 2
}
